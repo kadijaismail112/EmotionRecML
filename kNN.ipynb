{
 "cells": [
  {
   "cell_type": "markdown",
   "metadata": {},
   "source": [
    "# KNN for Facial Emotion Recognition\n",
    "====================================================================================================\n",
    "### Introduction\n",
    "k-Nearest Neighbors (kNN) is a fundamental algorithm in machine learning used for classification and regression. It's especially useful in facial emotion recognition due to its simplicity and effectiveness. Here's how it works:\n",
    "\n",
    "### 1. Feature Extraction\n",
    "- **Process**: Extract features from facial images, focusing on key expressive points like mouth corners, eyebrows, etc.\n",
    "\n",
    "### 2. Training the Model\n",
    "- **Data**: Use a dataset with facial images labeled with emotions (happy, sad, angry, etc.).\n",
    "- **Method**: kNN stores the dataset rather than learning a model.\n",
    "\n",
    "### 3. Choosing 'k' Value\n",
    "- **Importance**: The number of nearest neighbors ('k') to consider is critical.\n",
    "- **Method**: Determine 'k' through cross-validation based on the dataset.\n",
    "\n",
    "### 4. Classification of New Data\n",
    "- **Operation**: For a new facial image, kNN identifies 'k' nearest neighbors using a distance metric (like Euclidean distance).\n",
    "- **Outcome**: Assigns the most common emotion label among these neighbors to the new image.\n",
    "\n",
    "### 5. Real-Time Application\n",
    "- **Use Cases**: Useful in emotion-based user interfaces, security systems, and psychological studies.\n",
    "- **Requirement**: Needs continuous input data for real-time analysis.\n",
    "\n",
    "**Note**: The performance of kNN in facial emotion recognition depends on the training dataset quality, the choice of 'k', and the extracted features. It can be computationally intensive in real-time applications due to the need for distance computations with many dataset points for each new image.\n",
    "\n"
   ]
  },
  {
   "cell_type": "code",
   "execution_count": 8,
   "metadata": {},
   "outputs": [],
   "source": [
    "import os\n",
    "import util\n",
    "import numpy as np\n",
    "import matplotlib.pyplot as plt\n",
    "import pandas as pd\n",
    "from PIL import Image\n",
    "from sklearn.model_selection import train_test_split\n",
    "from "
   ]
  },
  {
   "cell_type": "markdown",
   "metadata": {},
   "source": [
    "We will start by implementing the k Nearest Neighbors class and then use it to classify facial emotions."
   ]
  },
  {
   "cell_type": "code",
   "execution_count": 9,
   "metadata": {},
   "outputs": [],
   "source": [
    "class KNearestNeighbor(object):\n",
    "    def __init__(self, k=3):\n",
    "        self.X_train = None\n",
    "        self.y_train = None\n",
    "        self.k = k\n",
    "\n",
    "    def fit(self, X, y):\n",
    "        \"\"\" \n",
    "        Train the classifier. For k-nearest neighbors this means\n",
    "        memorizing the training data\n",
    "\n",
    "        X: training data\n",
    "        y: labels\n",
    "        \n",
    "        \"\"\"\n",
    "        self.X_train = [x.flatten() for x in X]\n",
    "        self.y_train = y\n",
    "\n",
    "    def predict(self, X):\n",
    "        \"\"\"\n",
    "        Predict the labels for the data points in X.\n",
    "        \"\"\"\n",
    "        distances = [np.linalg.norm(x.flatten() - x_train) for x in X for x_train in self.X_train]\n",
    "        k_idx = np.argsort(distances)[:self.k]\n",
    "        k_labels = [self.y_train[i] for i in k_idx]\n",
    "        return max(set(k_labels), key=k_labels.count)\n",
    "\n",
    "    def accuracy(self, X, y):\n",
    "        \"\"\"\n",
    "        Return the accuracy of the classifier on the data X and the labels y.\n",
    "        \"\"\"\n",
    "        predictions = [self.predict(x) for x in X]\n",
    "        return np.mean(predictions == y)"
   ]
  },
  {
   "cell_type": "markdown",
   "metadata": {},
   "source": [
    "## Testing our Implementation\n",
    "We will test our implementation on a small dataset of facial images. We will use the `FacialExpressionDataset` class to load the dataset and preprocess the images. We will then use the `show_images` function to display a few images from the dataset."
   ]
  },
  {
   "cell_type": "code",
   "execution_count": null,
   "metadata": {},
   "outputs": [],
   "source": []
  },
  {
   "cell_type": "markdown",
   "metadata": {},
   "source": [
    "## Finding the Optimal k Value\n",
    "The k value in kNN is a hyperparameter that needs to be tuned for optimal performance. We will use cross-validation to find the best k value for our dataset. We will use the accuracy score as the metric to evaluate the performance of the model for different k values.\n",
    "\n"
   ]
  },
  {
   "cell_type": "markdown",
   "metadata": {},
   "source": [
    "## Testing our Optimal k Value\n",
    "We will use the optimal k value to classify facial emotions in the test dataset and evaluate the performance of the model using the accuracy score."
   ]
  },
  {
   "cell_type": "code",
   "execution_count": null,
   "metadata": {},
   "outputs": [],
   "source": []
  }
 ],
 "metadata": {
  "kernelspec": {
   "display_name": "cs124",
   "language": "python",
   "name": "python3"
  },
  "language_info": {
   "codemirror_mode": {
    "name": "ipython",
    "version": 3
   },
   "file_extension": ".py",
   "mimetype": "text/x-python",
   "name": "python",
   "nbconvert_exporter": "python",
   "pygments_lexer": "ipython3",
   "version": "3.12.1"
  }
 },
 "nbformat": 4,
 "nbformat_minor": 2
}
