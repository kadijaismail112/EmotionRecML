{
 "cells": [
  {
   "cell_type": "markdown",
   "metadata": {},
   "source": [
    "# KNN for Facial Emotion Recognition\n",
    "====================================================================================================\n",
    "### Introduction\n",
    "k-Nearest Neighbors (kNN) is a fundamental algorithm in machine learning used for classification and regression. It's especially useful in facial emotion recognition due to its simplicity and effectiveness. Here's how it works:\n",
    "\n",
    "### 1. Feature Extraction\n",
    "- **Process**: Extract features from facial images, focusing on key expressive points like mouth corners, eyebrows, etc.\n",
    "\n",
    "### 2. Training the Model\n",
    "- **Data**: Use a dataset with facial images labeled with emotions (happy, sad, angry, etc.).\n",
    "- **Method**: kNN stores the dataset rather than learning a model.\n",
    "\n",
    "### 3. Choosing 'k' Value\n",
    "- **Importance**: The number of nearest neighbors ('k') to consider is critical.\n",
    "- **Method**: Determine 'k' through cross-validation based on the dataset.\n",
    "\n",
    "### 4. Classification of New Data\n",
    "- **Operation**: For a new facial image, kNN identifies 'k' nearest neighbors using a distance metric (like Euclidean distance).\n",
    "- **Outcome**: Assigns the most common emotion label among these neighbors to the new image.\n",
    "\n",
    "### 5. Real-Time Application\n",
    "- **Use Cases**: Useful in emotion-based user interfaces, security systems, and psychological studies.\n",
    "- **Requirement**: Needs continuous input data for real-time analysis.\n",
    "\n",
    "**Note**: The performance of kNN in facial emotion recognition depends on the training dataset quality, the choice of 'k', and the extracted features. It can be computationally intensive in real-time applications due to the need for distance computations with many dataset points for each new image.\n",
    "\n"
   ]
  },
  {
   "cell_type": "code",
   "execution_count": 8,
   "metadata": {},
   "outputs": [],
   "source": [
    "import os\n",
    "import numpy as np\n",
    "import matplotlib.pyplot as plt\n",
    "import pandas as pd\n",
    "from PIL import Image\n",
    "from sklearn.model_selection import train_test_split"
   ]
  },
  {
   "cell_type": "markdown",
   "metadata": {},
   "source": [
    "We will start by implementing the k Nearest Neighbors class and then use it to classify facial emotions."
   ]
  },
  {
   "cell_type": "code",
   "execution_count": 9,
   "metadata": {},
   "outputs": [],
   "source": [
    "class KNearestNeighbor(object):\n",
    "    def __init__(self, k=3):\n",
    "        self.X_train = None\n",
    "        self.y_train = None\n",
    "        self.k = k\n",
    "\n",
    "    def fit(self, X, y):\n",
    "        \"\"\" \n",
    "        Train the classifier. For k-nearest neighbors this means\n",
    "        memorizing the training data\n",
    "\n",
    "        X: training data\n",
    "        y: labels\n",
    "        \n",
    "        \"\"\"\n",
    "        self.X_train = [x.flatten() for x in X]\n",
    "        self.y_train = y\n",
    "\n",
    "    def predict(self, X):\n",
    "        \"\"\"\n",
    "        Predict the labels for the data points in X.\n",
    "        \"\"\"\n",
    "        distances = [np.linalg.norm(x.flatten() - x_train) for x in X for x_train in self.X_train]\n",
    "        k_idx = np.argsort(distances)[:self.k]\n",
    "        k_labels = [self.y_train[i] for i in k_idx]\n",
    "        return max(set(k_labels), key=k_labels.count)\n",
    "\n",
    "    def accuracy(self, X, y):\n",
    "        \"\"\"\n",
    "        Return the accuracy of the classifier on the data X and the labels y.\n",
    "        \"\"\"\n",
    "        predictions = [self.predict(x) for x in X]\n",
    "        return np.mean(predictions == y)"
   ]
  },
  {
   "cell_type": "markdown",
   "metadata": {},
   "source": [
    "We will now prepare the dataset and set the values for the hyperparameters. Firstly, we need functions to l"
   ]
  },
  {
   "cell_type": "code",
   "execution_count": 16,
   "metadata": {},
   "outputs": [],
   "source": [
    "# Assuming you have a dataset named 'dataset' with features and labels\n",
    "\n",
    "def load_data(dataset_path, csv_file, image_size=(48, 48)):\n",
    "    # Read the CSV file\n",
    "    df = pd.read_csv(os.path.join(dataset_path, csv_file))\n",
    "    images = []\n",
    "    labels = []\n",
    "\n",
    "    for index, row in df.iterrows():\n",
    "        image_path = os.path.join(dataset_path, row['path'])\n",
    "        image = Image.open(image_path)\n",
    "        image = image.resize(image_size)\n",
    "        images.append(np.array(image).flatten())\n",
    "        labels.append(row['label'])\n",
    "\n",
    "    return np.array(images), np.array(labels)"
   ]
  },
  {
   "cell_type": "code",
   "execution_count": 17,
   "metadata": {},
   "outputs": [],
   "source": [
    "# Assuming you have the dataset path and CSV file name\n",
    "dataset_path = \"./dataset\"\n",
    "csv_file = \"data.csv\"\n",
    "\n",
    "# Load the dataset\n",
    "X, y = load_data(dataset_path, csv_file)\n",
    "\n",
    "# Split the dataset into training and testing sets\n",
    "X_train, X_test, y_train, y_test = train_test_split(X, y, test_size=0.2, random_state=42)\n"
   ]
  },
  {
   "cell_type": "code",
   "execution_count": 18,
   "metadata": {},
   "outputs": [
    {
     "ename": "IndexError",
     "evalue": "index 17075477 is out of bounds for axis 0 with size 12362",
     "output_type": "error",
     "traceback": [
      "\u001b[0;31m---------------------------------------------------------------------------\u001b[0m",
      "\u001b[0;31mIndexError\u001b[0m                                Traceback (most recent call last)",
      "Cell \u001b[0;32mIn[18], line 3\u001b[0m\n\u001b[1;32m      1\u001b[0m knn \u001b[38;5;241m=\u001b[39m KNearestNeighbor(k\u001b[38;5;241m=\u001b[39m\u001b[38;5;241m3\u001b[39m)\n\u001b[1;32m      2\u001b[0m knn\u001b[38;5;241m.\u001b[39mfit(X_train, y_train)\n\u001b[0;32m----> 3\u001b[0m predictions \u001b[38;5;241m=\u001b[39m \u001b[43mknn\u001b[49m\u001b[38;5;241;43m.\u001b[39;49m\u001b[43mpredict\u001b[49m\u001b[43m(\u001b[49m\u001b[43mX_test\u001b[49m\u001b[43m)\u001b[49m\n\u001b[1;32m      4\u001b[0m accuracy \u001b[38;5;241m=\u001b[39m knn\u001b[38;5;241m.\u001b[39maccuracy(X_test, y_test)\n\u001b[1;32m      6\u001b[0m \u001b[38;5;28mprint\u001b[39m(\u001b[38;5;124mf\u001b[39m\u001b[38;5;124m\"\u001b[39m\u001b[38;5;124mAccuracy: \u001b[39m\u001b[38;5;132;01m{\u001b[39;00maccuracy\u001b[38;5;132;01m}\u001b[39;00m\u001b[38;5;124m\"\u001b[39m)\n",
      "Cell \u001b[0;32mIn[9], line 25\u001b[0m, in \u001b[0;36mKNearestNeighbor.predict\u001b[0;34m(self, X)\u001b[0m\n\u001b[1;32m     23\u001b[0m distances \u001b[38;5;241m=\u001b[39m [np\u001b[38;5;241m.\u001b[39mlinalg\u001b[38;5;241m.\u001b[39mnorm(x\u001b[38;5;241m.\u001b[39mflatten() \u001b[38;5;241m-\u001b[39m x_train) \u001b[38;5;28;01mfor\u001b[39;00m x \u001b[38;5;129;01min\u001b[39;00m X \u001b[38;5;28;01mfor\u001b[39;00m x_train \u001b[38;5;129;01min\u001b[39;00m \u001b[38;5;28mself\u001b[39m\u001b[38;5;241m.\u001b[39mX_train]\n\u001b[1;32m     24\u001b[0m k_idx \u001b[38;5;241m=\u001b[39m np\u001b[38;5;241m.\u001b[39margsort(distances)[:\u001b[38;5;28mself\u001b[39m\u001b[38;5;241m.\u001b[39mk]\n\u001b[0;32m---> 25\u001b[0m k_labels \u001b[38;5;241m=\u001b[39m [\u001b[38;5;28;43mself\u001b[39;49m\u001b[38;5;241;43m.\u001b[39;49m\u001b[43my_train\u001b[49m\u001b[43m[\u001b[49m\u001b[43mi\u001b[49m\u001b[43m]\u001b[49m \u001b[38;5;28;01mfor\u001b[39;00m i \u001b[38;5;129;01min\u001b[39;00m k_idx]\n\u001b[1;32m     26\u001b[0m \u001b[38;5;28;01mreturn\u001b[39;00m \u001b[38;5;28mmax\u001b[39m(\u001b[38;5;28mset\u001b[39m(k_labels), key\u001b[38;5;241m=\u001b[39mk_labels\u001b[38;5;241m.\u001b[39mcount)\n",
      "\u001b[0;31mIndexError\u001b[0m: index 17075477 is out of bounds for axis 0 with size 12362"
     ]
    }
   ],
   "source": [
    "knn = KNearestNeighbor(k=3)\n",
    "knn.fit(X_train, y_train)\n",
    "predictions = knn.predict(X_test)\n",
    "accuracy = knn.accuracy(X_test, y_test)\n",
    "\n",
    "print(f\"Accuracy: {accuracy}\")\n"
   ]
  }
 ],
 "metadata": {
  "kernelspec": {
   "display_name": "cs124",
   "language": "python",
   "name": "python3"
  },
  "language_info": {
   "codemirror_mode": {
    "name": "ipython",
    "version": 3
   },
   "file_extension": ".py",
   "mimetype": "text/x-python",
   "name": "python",
   "nbconvert_exporter": "python",
   "pygments_lexer": "ipython3",
   "version": "3.12.1"
  }
 },
 "nbformat": 4,
 "nbformat_minor": 2
}
