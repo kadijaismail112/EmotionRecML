{
 "cells": [
  {
   "cell_type": "markdown",
   "metadata": {},
   "source": [
    "Resnet Implementation"
   ]
  },
  {
   "cell_type": "code",
   "execution_count": 27,
   "metadata": {},
   "outputs": [],
   "source": [
    "import torch\n",
    "import torch.nn as nn\n",
    "import torch.optim as optim\n",
    "from torch.utils.data import DataLoader\n",
    "from torchvision import models, transforms\n",
    "import pandas as pd\n",
    "import numpy as np\n",
    "from imblearn.under_sampling import RandomUnderSampler\n",
    "from imblearn.over_sampling import RandomOverSampler\n",
    "from sklearn.model_selection import train_test_split\n",
    "# from util import split_dataset"
   ]
  },
  {
   "cell_type": "code",
   "execution_count": 22,
   "metadata": {},
   "outputs": [
    {
     "name": "stdout",
     "output_type": "stream",
     "text": [
      "(35887, 48, 48, 1)\n",
      "[0 0 2 ... 0 3 2]\n"
     ]
    }
   ],
   "source": [
    "# load and preprocess data\n",
    "data = pd.read_csv('fer2013.csv')\n",
    "width, height = 48, 48\n",
    "datapoints = data['pixels'].tolist()\n",
    "faces = []\n",
    "for pixel_sequence in datapoints:\n",
    "    face = [int(pixel) for pixel in pixel_sequence.split(' ')]\n",
    "    face = np.asarray(face).reshape(width, height)\n",
    "    faces.append(face.astype('float32'))\n",
    "faces = np.asarray(faces)\n",
    "faces = np.expand_dims(faces, -1)\n",
    "emotions = data['emotion'].values\n",
    "\n",
    "print(faces.shape)\n",
    "print(emotions)"
   ]
  },
  {
   "cell_type": "code",
   "execution_count": 35,
   "metadata": {},
   "outputs": [],
   "source": [
    "# split data into training, validation, and test sets\n",
    "# Determine the minimum number of samples across all emotion classes\n",
    "class_counts = np.bincount(emotions)\n",
    "min_samples = np.min(class_counts)\n",
    "\n",
    "# Undersample the classes to match the minimum number of samples\n",
    "undersampler = RandomUnderSampler(sampling_strategy={i: min_samples for i in range(len(class_counts))}, random_state=42)\n",
    "X_undersampled, y_undersampled = undersampler.fit_resample(faces.reshape(len(faces), -1), emotions)\n",
    "X_undersampled = X_undersampled.reshape(-1, 1, 48, 48)  # Reshape back to the original shape\n",
    "\n",
    "# Split the undersampled data into training, testing, and evaluation sets\n",
    "train_ratio = 0.8\n",
    "test_ratio = 0.1\n",
    "eval_ratio = 0.1\n",
    "\n",
    "# First, split the data into training and remaining sets\n",
    "X_train, X_rem, y_train, y_rem = train_test_split(X_undersampled, y_undersampled, test_size=1-train_ratio, stratify=y_undersampled, random_state=42)\n",
    "\n",
    "# Then, split the remaining data into testing and evaluation sets\n",
    "test_ratio_adjusted = test_ratio / (test_ratio + eval_ratio)\n",
    "X_test, X_eval, y_test, y_eval = train_test_split(X_rem, y_rem, test_size=test_ratio_adjusted, stratify=y_rem, random_state=42)\n",
    "\n",
    "# Oversample the minority classes in the training set\n",
    "oversampler = RandomOverSampler(sampling_strategy='not majority', random_state=42)\n",
    "X_train_oversampled, y_train_oversampled = oversampler.fit_resample(X_train.reshape(len(X_train), -1), y_train)\n",
    "X_train_oversampled = X_train_oversampled.reshape(-1, 1, 48, 48)  # Reshape back to the original shape"
   ]
  },
  {
   "cell_type": "code",
   "execution_count": 24,
   "metadata": {},
   "outputs": [],
   "source": [
    "# define data transformations\n",
    "train_transforms = transforms.Compose([\n",
    "    transforms.ToPILImage(),\n",
    "    transforms.RandomHorizontalFlip(),\n",
    "    transforms.RandomAffine(degrees=10, translate=(0.1, 0.1)),\n",
    "    transforms.ToTensor(),\n",
    "    transforms.Normalize(mean=[0.5], std=[0.5])\n",
    "])\n",
    "\n",
    "test_transforms = transforms.Compose([\n",
    "    transforms.ToPILImage(),\n",
    "    transforms.ToTensor(),\n",
    "    transforms.Normalize(mean=[0.5], std=[0.5])\n",
    "])"
   ]
  },
  {
   "cell_type": "code",
   "execution_count": 25,
   "metadata": {},
   "outputs": [],
   "source": [
    "# data loaders!\n",
    "train_dataset = torch.utils.data.TensorDataset(torch.tensor(X_train_oversampled), torch.tensor(y_train_oversampled))\n",
    "train_loader = DataLoader(train_dataset, batch_size=64, shuffle=True)\n",
    "\n",
    "test_dataset = torch.utils.data.TensorDataset(torch.tensor(X_test), torch.tensor(y_test))\n",
    "test_loader = DataLoader(test_dataset, batch_size=64, shuffle=False)\n",
    "\n",
    "eval_dataset = torch.utils.data.TensorDataset(torch.tensor(X_eval), torch.tensor(y_eval))\n",
    "eval_loader = DataLoader(eval_dataset, batch_size=64, shuffle=False)"
   ]
  },
  {
   "cell_type": "code",
   "execution_count": 37,
   "metadata": {},
   "outputs": [
    {
     "name": "stderr",
     "output_type": "stream",
     "text": [
      "/Users/kadijaismail/miniconda3/envs/EmotionRecML/lib/python3.12/site-packages/torchvision/models/_utils.py:208: UserWarning: The parameter 'pretrained' is deprecated since 0.13 and may be removed in the future, please use 'weights' instead.\n",
      "  warnings.warn(\n",
      "/Users/kadijaismail/miniconda3/envs/EmotionRecML/lib/python3.12/site-packages/torchvision/models/_utils.py:223: UserWarning: Arguments other than a weight enum or `None` for 'weights' are deprecated since 0.13 and may be removed in the future. The current behavior is equivalent to passing `weights=None`.\n",
      "  warnings.warn(msg)\n"
     ]
    }
   ],
   "source": [
    "# define the model\n",
    "model = models.resnet50(pretrained=False)\n",
    "model.conv1 = nn.Conv2d(1, 64, kernel_size=7, stride=2, padding=3, bias=False)\n",
    "num_features = model.fc.in_features\n",
    "num_classes = 7\n",
    "model.fc = nn.Linear(num_features, num_classes)\n",
    "\n",
    "# move to GPU if available\n",
    "device = torch.device('cuda' if torch.cuda.is_available() else 'cpu')\n",
    "model.to(device)\n",
    "\n",
    "# define the loss function and optimizer\n",
    "criterion = nn.CrossEntropyLoss()\n",
    "optimizer = optim.Adam(model.parameters(), lr=0.001)"
   ]
  },
  {
   "cell_type": "code",
   "execution_count": 40,
   "metadata": {},
   "outputs": [],
   "source": [
    "def run_epoch(loader, model, criterion, optimizer, device, train=False):\n",
    "    model.train()\n",
    "    running_loss = 0.0\n",
    "    running_corrects = 0\n",
    "    total_samples = 0\n",
    "\n",
    "    for inputs, labels in loader:\n",
    "        inputs = inputs.to(device)\n",
    "        labels = labels.to(device)\n",
    "\n",
    "        optimizer.zero_grad()\n",
    "\n",
    "        outputs = model(inputs)\n",
    "        _, preds = torch.max(outputs, 1)\n",
    "        loss = criterion(outputs, labels)\n",
    "\n",
    "        loss.backward()\n",
    "        optimizer.step()\n",
    "\n",
    "        running_loss += loss.item() * inputs.size(0)\n",
    "        running_corrects += torch.sum(preds == labels.data)\n",
    "        total_samples += inputs.size(0)\n",
    "\n",
    "    epoch_loss = running_loss / total_samples\n",
    "    epoch_acc = running_corrects.double() / total_samples\n",
    "\n",
    "    return epoch_loss, epoch_acc\n",
    "\n",
    "def accuracy(loader, model):\n",
    "    model.eval()\n",
    "    running_corrects = 0\n",
    "    total_samples = 0\n",
    "\n",
    "    with torch.no_grad():\n",
    "        for inputs, labels in loader:\n",
    "            inputs = inputs.to(device)\n",
    "            labels = labels.to(device)\n",
    "\n",
    "            outputs = model(inputs)\n",
    "            _, preds = torch.max(outputs, 1)\n",
    "\n",
    "            running_corrects += torch.sum(preds == labels.data)\n",
    "            total_samples += inputs.size(0)\n",
    "\n",
    "    acc = running_corrects.double() / total_samples\n",
    "\n",
    "    return acc\n"
   ]
  },
  {
   "cell_type": "code",
   "execution_count": 41,
   "metadata": {},
   "outputs": [
    {
     "name": "stdout",
     "output_type": "stream",
     "text": [
      "Epoch 1/10, Train Loss: 1.7810, Train Acc: 0.3320, Eval Acc: 0.3081\n",
      "Epoch 2/10, Train Loss: 1.5352, Train Acc: 0.4354, Eval Acc: 0.3159\n",
      "Epoch 3/10, Train Loss: 1.4004, Train Acc: 0.4948, Eval Acc: 0.3211\n",
      "Epoch 4/10, Train Loss: 1.2075, Train Acc: 0.5714, Eval Acc: 0.3211\n",
      "Epoch 5/10, Train Loss: 0.9984, Train Acc: 0.6491, Eval Acc: 0.2742\n",
      "Epoch 6/10, Train Loss: 0.9762, Train Acc: 0.6601, Eval Acc: 0.3473\n",
      "Epoch 7/10, Train Loss: 0.6850, Train Acc: 0.7655, Eval Acc: 0.3211\n",
      "Epoch 8/10, Train Loss: 0.5895, Train Acc: 0.7971, Eval Acc: 0.3185\n",
      "Epoch 9/10, Train Loss: 0.4765, Train Acc: 0.8330, Eval Acc: 0.3055\n",
      "Epoch 10/10, Train Loss: 0.4175, Train Acc: 0.8545, Eval Acc: 0.3081\n",
      "Test Acc: 0.3394\n"
     ]
    }
   ],
   "source": [
    "# Training loop\n",
    "max_epochs = 10\n",
    "eps = 1e-7\n",
    "iters = 0\n",
    "train_losses = []\n",
    "\n",
    "while iters < max_epochs: ## feel free to change the way it loops i got lazy and this is what it is\n",
    "    train_loss, train_acc = run_epoch(train_loader, model, criterion, optimizer, device, train=True)\n",
    "    eval_acc = accuracy(eval_loader, model)\n",
    "    convergence = abs(train_losses[-1] - train_loss) < eps\n",
    "    ## holy shit this takes forever on a single epoch, im gonna load it up on my desktop tmrw morning\n",
    "    print(f'Epoch {iters+1}/{max_epochs}, Train Loss: {train_loss:.4f}, Train Acc: {train_acc:.4f}, Eval Acc: {eval_acc:.4f}')\n",
    "    train_losses.append(train_loss)\n",
    "    if convergence:\n",
    "        print(f'Converged after {iters+1} epochs')\n",
    "        break\n",
    "    else:\n",
    "        iters += 1\n",
    "\n",
    "# Test the model\n",
    "test_acc = accuracy(test_loader, model)\n",
    "print(f'Test Acc: {test_acc:.4f}')\n",
    "\n",
    "# Save the model\n",
    "torch.save(model.state_dict(), 'resnet50.pth')\n",
    "    "
   ]
  }
 ],
 "metadata": {
  "kernelspec": {
   "display_name": "EmotionRecML",
   "language": "python",
   "name": "python3"
  },
  "language_info": {
   "codemirror_mode": {
    "name": "ipython",
    "version": 3
   },
   "file_extension": ".py",
   "mimetype": "text/x-python",
   "name": "python",
   "nbconvert_exporter": "python",
   "pygments_lexer": "ipython3",
   "version": "3.12.1"
  }
 },
 "nbformat": 4,
 "nbformat_minor": 2
}
